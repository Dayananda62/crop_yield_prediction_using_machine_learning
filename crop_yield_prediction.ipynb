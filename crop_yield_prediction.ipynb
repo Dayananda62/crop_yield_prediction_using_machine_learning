{
  "nbformat": 4,
  "nbformat_minor": 0,
  "metadata": {
    "colab": {
      "provenance": [],
      "gpuType": "T4"
    },
    "kernelspec": {
      "name": "python3",
      "display_name": "Python 3"
    },
    "language_info": {
      "name": "python"
    },
    "accelerator": "GPU"
  },
  "cells": [
    {
      "cell_type": "code",
      "execution_count": null,
      "metadata": {
        "colab": {
          "base_uri": "https://localhost:8080/"
        },
        "id": "o9bsGEJXMzEu",
        "outputId": "a66d7ccc-18c7-4fd4-b175-51226eb5b82a"
      },
      "outputs": [
        {
          "output_type": "stream",
          "name": "stdout",
          "text": [
            "Mounted at /content/drive\n"
          ]
        }
      ],
      "source": [
        "from google.colab import drive\n",
        "import pandas as pd\n",
        "\n",
        "# Mount Google Drive\n",
        "drive.mount('/content/drive')\n",
        "\n",
        "# Load dataset from Google Drive\n",
        "dataset_path = '/content/drive/MyDrive/crop_yield_dataset.csv'\n",
        "data = pd.read_csv(dataset_path)\n",
        "\n",
        "# Display the first few rows of the dataset to understand its structure\n",
        "data.head()\n",
        "from sklearn.model_selection import train_test_split\n"
      ]
    },
    {
      "cell_type": "code",
      "source": [
        "# Import required libraries\n",
        "import pandas as pd\n",
        "from sklearn.model_selection import train_test_split\n",
        "from sklearn.preprocessing import StandardScaler\n",
        "\n",
        "# One-Hot Encode categorical features\n",
        "X = pd.get_dummies(data[['Crop', 'State', 'Season', 'Area', 'Annual_Rainfall', 'Temperature', 'Humidity']])\n",
        "\n",
        "# Target variable remains the same\n",
        "y = data['Yield']\n",
        "\n",
        "# Split the data into training and testing sets\n",
        "X_train, X_test, y_train, y_test = train_test_split(X, y, test_size=0.2, random_state=42)\n",
        "\n",
        "# Scale the feature values\n",
        "scaler = StandardScaler()\n",
        "X_train = scaler.fit_transform(X_train)\n",
        "X_test = scaler.transform(X_test)\n"
      ],
      "metadata": {
        "id": "rvCkxkIoM5e-"
      },
      "execution_count": null,
      "outputs": []
    },
    {
      "cell_type": "code",
      "source": [
        "# Define and Train the Model\n",
        "from sklearn.ensemble import RandomForestRegressor\n",
        "from sklearn.metrics import mean_squared_error, r2_score\n",
        "\n",
        "# Initialize the model\n",
        "model = RandomForestRegressor(n_estimators=100, random_state=42)\n",
        "\n",
        "# Train the model\n",
        "model.fit(X_train, y_train)\n",
        "\n",
        "# Evaluate the model\n",
        "y_pred = model.predict(X_test)\n",
        "r2 = r2_score(y_test, y_pred)\n",
        "\n",
        "print(f\"R² Score: {r2}\")\n"
      ],
      "metadata": {
        "colab": {
          "base_uri": "https://localhost:8080/"
        },
        "id": "l86lPSKnM-Qg",
        "outputId": "a15cac65-0739-4e0c-ee27-05d15ed2a78c"
      },
      "execution_count": null,
      "outputs": [
        {
          "output_type": "stream",
          "name": "stdout",
          "text": [
            "R² Score: 0.971365577608442\n"
          ]
        }
      ]
    },
    {
      "cell_type": "code",
      "source": [
        "# Save the Model\n",
        "import joblib\n",
        "\n",
        "# Path to save the model in Google Drive\n",
        "model_path = '/content/drive/MyDrive/weather_yield_model.joblib'\n",
        "\n",
        "# Save the trained model\n",
        "joblib.dump(model, model_path)\n",
        "\n",
        "print(\"Model saved to Google Drive.\")\n"
      ],
      "metadata": {
        "colab": {
          "base_uri": "https://localhost:8080/"
        },
        "id": "V1C1zeM-NAJI",
        "outputId": "3f224c64-bb46-4b97-b4bc-9a79742e8a23"
      },
      "execution_count": null,
      "outputs": [
        {
          "output_type": "stream",
          "name": "stdout",
          "text": [
            "Model saved to Google Drive.\n"
          ]
        }
      ]
    },
    {
      "cell_type": "code",
      "source": [
        "from google.colab import drive\n",
        "import joblib\n",
        "\n",
        "# Mount Google Drive\n",
        "drive.mount('/content/drive')\n",
        "\n",
        "# Load the trained model\n",
        "model_path = '/content/drive/MyDrive/weather_yield_model.joblib'\n",
        "model = joblib.load(model_path)\n",
        "print(\"Model loaded successfully.\")\n"
      ],
      "metadata": {
        "colab": {
          "base_uri": "https://localhost:8080/"
        },
        "id": "fq9Yf-UFP4yE",
        "outputId": "406bced1-e1b3-4f2c-8b82-320325108691"
      },
      "execution_count": null,
      "outputs": [
        {
          "output_type": "stream",
          "name": "stdout",
          "text": [
            "Drive already mounted at /content/drive; to attempt to forcibly remount, call drive.mount(\"/content/drive\", force_remount=True).\n",
            "Model loaded successfully.\n"
          ]
        }
      ]
    },
    {
      "cell_type": "code",
      "source": [
        "# Define dropdown options for categorical fields\n",
        "crop_options = ['Arecanut', 'Arhar/Tur', 'Castor seed', 'Coconut', 'Cotton (lint)', 'Dry chillies', 'Gram', 'Jute', 'Linseed', 'Maize', 'Mesta', 'Niger seed', 'Onion', 'Other Rabi pulses', 'Potato', 'Rapeseed & Mustard', 'Rice', 'Sesamum', 'Small millets', 'Sugarcane', 'Sweet potato', 'Tapioca', 'Tobacco', 'Turmeric', 'Wheat', 'Bajra', 'Black pepper', 'Cardamom', 'Coriander', 'Garlic', 'Ginger', 'Groundnut', 'Horse-gram', 'Jowar', 'Ragi', 'Cashewnut', 'Banana', 'Soyabean', 'Barley', 'Khesari', 'Masoor', 'Moong (Green Gram)', 'Other Kharif pulses', 'Safflower', 'Sannhamp', 'Sunflower', 'Urad', 'Peas & beans (Pulses)', 'Other oilseeds', 'Other Cereals', 'Cowpea (Lobia)', 'Oilseeds total', 'Guar seed', 'Other Summer Pulses', 'Moth']  # Replace with actual crop names\n",
        "state_options = ['Assam', 'Karnataka', 'Kerala', 'Meghalaya', 'West Bengal', 'Puducherry', 'Goa', 'Andhra Pradesh', 'Tamil Nadu', 'Odisha', 'Bihar', 'Gujarat', 'Madhya Pradesh', 'Maharashtra', 'Mizoram', 'Punjab', 'Uttar Pradesh', 'Haryana', 'Himachal Pradesh', 'Tripura', 'Nagaland', 'Chhattisgarh', 'Uttarakhand', 'Jharkhand', 'Delhi', 'Manipur', 'Jammu and Kashmir', 'Telangana', 'Arunachal Pradesh', 'Sikkim']  # Replace with actual state names\n",
        "season_options = ['Whole Year', 'Kharif', 'Rabi', 'Autumn', 'Summer', 'Winter']\n"
      ],
      "metadata": {
        "id": "Lo6HKVpWQtN7"
      },
      "execution_count": null,
      "outputs": []
    },
    {
      "cell_type": "code",
      "source": [
        "from sklearn.preprocessing import LabelEncoder, OneHotEncoder\n",
        "import numpy as np\n",
        "\n",
        "# Fit one-hot encoder based on training categories\n",
        "onehot_encoder = OneHotEncoder(categories=[crop_options, state_options, season_options], sparse_output=False)\n",
        "\n",
        "# Function to get user input and predict crop yield\n",
        "def get_user_input_and_predict():\n",
        "    # Select options for categorical fields\n",
        "    print(\"Please select an option for each field:\")\n",
        "    crop = input(f\"Crop ({', '.join(crop_options)}): \")\n",
        "    state = input(f\"State ({', '.join(state_options)}): \")\n",
        "    season = input(f\"Season ({', '.join(season_options)}): \")\n",
        "\n",
        "    # Check that entered values are in the dropdown options\n",
        "    if crop not in crop_options or state not in state_options or season not in season_options:\n",
        "        print(\"Invalid input for categorical fields. Please try again.\")\n",
        "        return\n",
        "\n",
        "    # Convert categorical inputs to one-hot encoded values\n",
        "    categorical_input = [[crop, state, season]]\n",
        "    categorical_encoded = onehot_encoder.fit_transform(categorical_input)\n",
        "\n",
        "    # Input values for numerical fields\n",
        "    try:\n",
        "        area = float(input(\"Enter the area (in hectares): \"))\n",
        "        rainfall = float(input(\"Enter the rainfall (in mm): \"))\n",
        "        temperature = float(input(\"Enter the temperature (in °C): \"))\n",
        "        humidity = float(input(\"Enter the humidity (in %): \"))\n",
        "    except ValueError:\n",
        "        print(\"Invalid input for numerical fields. Please enter numerical values.\")\n",
        "        return\n",
        "\n",
        "    # Combine numerical and encoded categorical features into a single input array\n",
        "    numerical_features = np.array([[area, rainfall, temperature, humidity]])\n",
        "    input_features = np.hstack((categorical_encoded, numerical_features))\n",
        "\n",
        "    # Predict crop yield\n",
        "    predicted_yield = model.predict(input_features)\n",
        "    print(f\"Predicted Crop Yield: {predicted_yield[0]:.2f} Units\")\n",
        "\n",
        "get_user_input_and_predict()\n"
      ],
      "metadata": {
        "id": "5CWB4I5VRGFl",
        "colab": {
          "base_uri": "https://localhost:8080/"
        },
        "outputId": "65e38a30-3017-4a38-cb9a-d5cb0d85e8cb"
      },
      "execution_count": null,
      "outputs": [
        {
          "output_type": "stream",
          "name": "stdout",
          "text": [
            "Please select an option for each field:\n",
            "Crop (Arecanut, Arhar/Tur, Castor seed, Coconut, Cotton (lint), Dry chillies, Gram, Jute, Linseed, Maize, Mesta, Niger seed, Onion, Other Rabi pulses, Potato, Rapeseed & Mustard, Rice, Sesamum, Small millets, Sugarcane, Sweet potato, Tapioca, Tobacco, Turmeric, Wheat, Bajra, Black pepper, Cardamom, Coriander, Garlic, Ginger, Groundnut, Horse-gram, Jowar, Ragi, Cashewnut, Banana, Soyabean, Barley, Khesari, Masoor, Moong (Green Gram), Other Kharif pulses, Safflower, Sannhamp, Sunflower, Urad, Peas & beans (Pulses), Other oilseeds, Other Cereals, Cowpea (Lobia), Oilseeds total, Guar seed, Other Summer Pulses, Moth): Arecanut\n",
            "State (Assam, Karnataka, Kerala, Meghalaya, West Bengal, Puducherry, Goa, Andhra Pradesh, Tamil Nadu, Odisha, Bihar, Gujarat, Madhya Pradesh, Maharashtra, Mizoram, Punjab, Uttar Pradesh, Haryana, Himachal Pradesh, Tripura, Nagaland, Chhattisgarh, Uttarakhand, Jharkhand, Delhi, Manipur, Jammu and Kashmir, Telangana, Arunachal Pradesh, Sikkim): Karnataka\n",
            "Season (Whole Year, Kharif, Rabi, Autumn, Summer, Winter): Summer\n",
            "Enter the area (in hectares): 200\n",
            "Enter the rainfall (in mm): 200\n",
            "Enter the temperature (in °C): 30\n",
            "Enter the humidity (in %): 90\n",
            "Predicted Crop Yield: 1.13 Units\n"
          ]
        }
      ]
    }
  ]
}